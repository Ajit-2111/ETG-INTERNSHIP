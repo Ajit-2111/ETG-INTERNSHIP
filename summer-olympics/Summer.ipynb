{
 "cells": [
  {
   "cell_type": "markdown",
   "metadata": {},
   "source": [
    "# Summer Olympics Data Analysis Assignment"
   ]
  },
  {
   "cell_type": "code",
   "execution_count": null,
   "metadata": {},
   "outputs": [],
   "source": [
    "import numpy as np\n",
    "import pandas as pd\n",
    "import matplotlib.pyplot as plt \n",
    "df = pd.read_csv(\"summer.csv\")"
   ]
  },
  {
   "cell_type": "markdown",
   "metadata": {},
   "source": [
    "### 1. In how many cities Summer Olympics is held so far?"
   ]
  },
  {
   "cell_type": "code",
   "execution_count": null,
   "metadata": {},
   "outputs": [],
   "source": [
    "len(df['City'].unique())"
   ]
  },
  {
   "cell_type": "markdown",
   "metadata": {},
   "source": [
    "### 2. Which sport is having most number of Gold Medals so far? (Top 5)"
   ]
  },
  {
   "cell_type": "code",
   "execution_count": null,
   "metadata": {},
   "outputs": [],
   "source": [
    "print(df.Sport.where(df['Medal'] == 'Gold').value_counts().head(5),plt.plot(df.Sport.where(df['Medal'] == 'Gold').value_counts().head(5)),plt.xlabel(\" SPORTS\"),plt.ylabel(\"GOLD MEDALS\"))"
   ]
  },
  {
   "cell_type": "markdown",
   "metadata": {},
   "source": [
    "### 3. Which sport is having most number of medals so far? (Top 5)"
   ]
  },
  {
   "cell_type": "code",
   "execution_count": null,
   "metadata": {},
   "outputs": [],
   "source": [
    "print(df.Sport.where((df.Medal == \"Gold\") | (df.Medal == \"Silver\") | (df.Medal == \"Bronze\")).value_counts().head(5),plt.plot(df.Sport.where((df.Medal == \"Gold\") | (df.Medal == \"Silver\") | (df.Medal == \"Bronze\")).value_counts().head(5)),plt.xlabel(\" SPORTS\"),plt.ylabel(\"MEDALS\"))"
   ]
  },
  {
   "cell_type": "markdown",
   "metadata": {},
   "source": [
    "### 4. Which player has won most number of medals? (Top 5)"
   ]
  },
  {
   "cell_type": "code",
   "execution_count": null,
   "metadata": {},
   "outputs": [],
   "source": [
    "print(df.Athlete.where((df.Medal == \"Gold\") | (df.Medal == \"Silver\") | (df.Medal == \"Bronze\")).value_counts().head(5),plt.plot(df.Athlete.where((df.Medal == \"Gold\") | (df.Medal == \"Silver\") | (df.Medal == \"Bronze\")).value_counts().head(5)),plt.xlabel(\" ATHLETES\"),plt.ylabel(\"MEDALS\"),plt.xticks(rotation=25))"
   ]
  },
  {
   "cell_type": "markdown",
   "metadata": {},
   "source": [
    "### 5. Which player has won most number Gold Medals of medals? (Top 5)"
   ]
  },
  {
   "cell_type": "code",
   "execution_count": null,
   "metadata": {},
   "outputs": [],
   "source": [
    "print(df.Athlete.where(df['Medal'] == 'Gold').value_counts().dropna().head(5),plt.plot(df.Athlete.where(df['Medal'] == 'Gold').value_counts().dropna().head(5)),plt.xlabel(\" ATHLETES\"),plt.ylabel(\"GOLD MEDALS\"))"
   ]
  },
  {
   "cell_type": "markdown",
   "metadata": {},
   "source": [
    "### 6. In which year India won first Gold Medal in Summer Olympics?"
   ]
  },
  {
   "cell_type": "code",
   "execution_count": null,
   "metadata": {},
   "outputs": [],
   "source": [
    "df.Year[(df.Country == \"IND\") & (df.Medal == \"Gold\")].head(1)"
   ]
  },
  {
   "cell_type": "markdown",
   "metadata": {},
   "source": [
    "### 7. Which event is most popular in terms on number of players? (Top 5)"
   ]
  },
  {
   "cell_type": "code",
   "execution_count": null,
   "metadata": {},
   "outputs": [],
   "source": [
    "print(df.Sport.value_counts().dropna().head(5),plt.plot(df.Sport.value_counts().dropna().head(5)),plt.xlabel(\" SPORTS\"),plt.ylabel(\"NUMBER OF PLAYERS\"))"
   ]
  },
  {
   "cell_type": "markdown",
   "metadata": {},
   "source": [
    "### 8. Which sport is having most female Gold Medalists? (Top 5)"
   ]
  },
  {
   "cell_type": "code",
   "execution_count": null,
   "metadata": {},
   "outputs": [],
   "source": [
    "print(df.Sport[(df.Gender == \"Women\") & (df.Medal == \"Gold\")].value_counts().head(5),plt.plot(df.Sport[(df.Gender == \"Women\") & (df.Medal == \"Gold\")].value_counts().head(5)),plt.xlabel(\" SPORTS\"),plt.ylabel(\"FEMALE GOLD MEDALS\"))"
   ]
  }
 ],
 "metadata": {
  "kernelspec": {
   "display_name": "Python 3 (ipykernel)",
   "language": "python",
   "name": "python3"
  },
  "language_info": {
   "codemirror_mode": {
    "name": "ipython",
    "version": 3
   },
   "file_extension": ".py",
   "mimetype": "text/x-python",
   "name": "python",
   "nbconvert_exporter": "python",
   "pygments_lexer": "ipython3",
   "version": "3.9.2"
  }
 },
 "nbformat": 4,
 "nbformat_minor": 2
}
